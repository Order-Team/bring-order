{
 "cells": [
  {
   "cell_type": "code",
   "execution_count": 1,
   "id": "ecc80cd1",
   "metadata": {},
   "outputs": [
    {
     "name": "stdout",
     "output_type": "stream",
     "text": [
      "Button(description='Save', style=ButtonStyle())\n",
      "<class 'ipywidgets.widgets.widget_button.Button'>\n",
      "Button(description='Clear', style=ButtonStyle())\n",
      "<class 'ipywidgets.widgets.widget_button.Button'>\n"
     ]
    },
    {
     "data": {
      "application/vnd.jupyter.widget-view+json": {
       "model_id": "",
       "version_major": 2,
       "version_minor": 0
      },
      "text/plain": [
       "VBox(children=(Text(value='', description='Hypothesis:', style=TextStyle(description_width='initial')), Text(v…"
      ]
     },
     "metadata": {},
     "output_type": "display_data"
    },
    {
     "data": {
      "text/plain": [
       "True"
      ]
     },
     "execution_count": 1,
     "metadata": {},
     "output_type": "execute_result"
    }
   ],
   "source": [
    "from ipywidgets import widgets\n",
    "from IPython.display import display\n",
    "\n",
    "class Hypothesis:\n",
    "    def __init__(self):\n",
    "        style = {'description_width':'initial'}\n",
    "        self.hypothesis = widgets.Text(value='', description='Hypothesis:', style=style)\n",
    "        self.null_hypothesis = widgets.Text(value='', description='Null hypothesis:', style=style)\n",
    "        save_button, clear_button = self._initialize_buttons()\n",
    "        self.view1 = widgets.VBox(\n",
    "            [self.hypothesis,\n",
    "             self.null_hypothesis,\n",
    "             widgets.HBox([save_button, clear_button])])\n",
    "\n",
    "    def _clear_button_clicked(self, _=None):\n",
    "        self.hypothesis.value = ''\n",
    "        self.null_hypothesis.value = ''\n",
    "\n",
    "    def _save_button_clicked(self, _=None):\n",
    "        self.hypothesis = f'Hypothesis: {self.hypothesis.value}'\n",
    "        self.null_hypothesis = f'Null hypothesis: {self.null_hypothesis.value}'\n",
    "        self.view1.close()\n",
    "        print(self.hypothesis)\n",
    "        print(self.null_hypothesis)\n",
    "\n",
    "    def _initialize_buttons(self):\n",
    "        save_button = widgets.Button(description='Save')\n",
    "        clear_button = widgets.Button(description='Clear')\n",
    "        save_button.on_click(self._save_button_clicked)\n",
    "        clear_button.on_click(self._clear_button_clicked)\n",
    "        print(save_button)\n",
    "        print(type(save_button))\n",
    "        print(clear_button)\n",
    "        print(type(clear_button))\n",
    "\n",
    "        return save_button, clear_button\n",
    "\n",
    "    # User should call this method to set the hypotheses\n",
    "    def set_hypothesis(self):\n",
    "        display(self.view1)\n",
    "        return True\n",
    "\n",
    "instance = Hypothesis()\n",
    "instance.set_hypothesis()"
   ]
  }
 ],
 "metadata": {
  "kernelspec": {
   "display_name": "Python 3 (ipykernel)",
   "language": "python",
   "name": "python3"
  },
  "language_info": {
   "codemirror_mode": {
    "name": "ipython",
    "version": 3
   },
   "file_extension": ".py",
   "mimetype": "text/x-python",
   "name": "python",
   "nbconvert_exporter": "python",
   "pygments_lexer": "ipython3",
   "version": "3.8.10"
  }
 },
 "nbformat": 4,
 "nbformat_minor": 5
}
