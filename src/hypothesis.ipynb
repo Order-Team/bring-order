{
 "cells": [
  {
   "cell_type": "code",
   "execution_count": 1,
   "id": "3d7e9dfb",
   "metadata": {},
   "outputs": [
    {
     "data": {
      "application/vnd.jupyter.widget-view+json": {
       "model_id": "64cdd9de6e2748c487d57ac743970f61",
       "version_major": 2,
       "version_minor": 0
      },
      "text/plain": [
       "GridspecLayout(children=(Label(value='Hypothesis:', layout=Layout(grid_area='widget001', justify_content='flex…"
      ]
     },
     "metadata": {},
     "output_type": "display_data"
    }
   ],
   "source": [
    "from ipywidgets import widgets\n",
    "from IPython.display import display\n",
    "\n",
    "class Hypothesis:\n",
    "    \"\"\"_summary_\n",
    "    \"\"\"\n",
    "    def __init__(self):\n",
    "        self.hypothesis_label = widgets.Label(value='Hypothesis:',\n",
    "                                              layout=widgets.Layout(justify_content='flex-end'))\n",
    "        self.null_hypothesis_label = widgets.Label(value='Null hypothesis:',\n",
    "                                                layout=widgets.Layout(justify_content='flex-end'))\n",
    "        self.hypothesis = widgets.Text(value='')\n",
    "        self.null_hypothesis = widgets.Text(value='')\n",
    "        save_button, clear_button = self.initialize_buttons()\n",
    "        grid = widgets.GridspecLayout(3, 3, height='auto')\n",
    "        grid[0, 0] = self.hypothesis_label\n",
    "        grid[0, 1] = self.hypothesis\n",
    "        grid[1, 0] = self.null_hypothesis_label\n",
    "        grid[1, 1] = self.null_hypothesis\n",
    "        grid[2, 1] = widgets.HBox([save_button, clear_button])\n",
    "        \n",
    "        self.view1 = grid\n",
    "\n",
    "\n",
    "    def clear_button_clicked(self, _=None):\n",
    "        \"\"\"_summary_\n",
    "\n",
    "        Args:\n",
    "            _ (_type_, optional): _description_. Defaults to None.\n",
    "        \"\"\"\n",
    "        self.hypothesis.value = ''\n",
    "        self.null_hypothesis.value = ''\n",
    "\n",
    "    def save_button_clicked(self, _=None):\n",
    "        \"\"\"_summary_\n",
    "\n",
    "        Args:\n",
    "            _ (_type_, optional): _description_. Defaults to None.\n",
    "        \"\"\"\n",
    "        self.hypothesis = f'Hypothesis: {self.hypothesis.value}'\n",
    "        self.null_hypothesis = f'Null hypothesis: {self.null_hypothesis.value}'\n",
    "        self.view1.close()\n",
    "        print(self.hypothesis)\n",
    "        print(self.null_hypothesis)\n",
    "\n",
    "    def initialize_buttons(self):\n",
    "        \"\"\"_summary_\n",
    "\n",
    "        Returns:\n",
    "            _type_: _description_\n",
    "        \"\"\"\n",
    "        save_button = widgets.Button(description='Save', button_style='success')\n",
    "        clear_button = widgets.Button(description='Clear', button_style='info')\n",
    "        save_button.on_click(self.save_button_clicked)\n",
    "        clear_button.on_click(self.clear_button_clicked)\n",
    "        return save_button, clear_button\n",
    "\n",
    "    def set_hypothesis(self):\n",
    "        \"\"\"_summary_\n",
    "\n",
    "        Returns:\n",
    "            _type_: _description_\n",
    "        \"\"\"\n",
    "        display(self.view1)\n",
    "\n",
    "instance = Hypothesis()\n",
    "instance.set_hypothesis()"
   ]
  },
  {
   "cell_type": "code",
   "execution_count": null,
   "id": "23fc2b99",
   "metadata": {},
   "outputs": [],
   "source": []
  }
 ],
 "metadata": {
  "kernelspec": {
   "display_name": "Python 3 (ipykernel)",
   "language": "python",
   "name": "python3"
  },
  "language_info": {
   "codemirror_mode": {
    "name": "ipython",
    "version": 3
   },
   "file_extension": ".py",
   "mimetype": "text/x-python",
   "name": "python",
   "nbconvert_exporter": "python",
   "pygments_lexer": "ipython3",
   "version": "3.8.10"
  }
 },
 "nbformat": 4,
 "nbformat_minor": 5
}
